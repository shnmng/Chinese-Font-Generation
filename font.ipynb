{
 "cells": [
  {
   "cell_type": "code",
   "execution_count": 4,
   "metadata": {
    "collapsed": true
   },
   "outputs": [],
   "source": [
    "import torch\n",
    "import numpy as np\n",
    "import sys\n",
    "import os\n",
    "from PIL import Image\n",
    "from PIL import ImageDraw\n",
    "from PIL import ImageFont\n",
    "import json\n",
    "import collections\n",
    "import matplotlib.pyplot as plt"
   ]
  },
  {
   "cell_type": "code",
   "execution_count": 4,
   "metadata": {
    "collapsed": true
   },
   "outputs": [],
   "source": [
    "# cjk = json.load(open('cjk.json'))\n",
    "# CN_CHARSET = cjk['gb2312']"
   ]
  },
  {
   "cell_type": "code",
   "execution_count": 2,
   "metadata": {
    "collapsed": true
   },
   "outputs": [],
   "source": [
    "# cjk = json.load(open('cjk.json'))\n",
    "# CN_CHARSET = cjk['gbk']"
   ]
  },
  {
   "cell_type": "code",
   "execution_count": 5,
   "metadata": {},
   "outputs": [
    {
     "data": {
      "text/plain": [
       "3755"
      ]
     },
     "execution_count": 5,
     "metadata": {},
     "output_type": "execute_result"
    }
   ],
   "source": [
    "codes = []\n",
    "try:\n",
    "    for head in range(0xb0, 0xd8):\n",
    "        for body in range(0xa1, 0xff):\n",
    "            val = f'{head:x} {body:x}'\n",
    "            codes.append(bytes.fromhex(val).decode('gb2312'))\n",
    "except:\n",
    "    pass\n",
    "\n",
    "len(codes)"
   ]
  },
  {
   "cell_type": "code",
   "execution_count": 6,
   "metadata": {
    "collapsed": true
   },
   "outputs": [],
   "source": [
    "# font_name = 'msyh'\n",
    "# msyh = ImageFont.truetype(font_name+'.ttf', size=60)\n",
    "\n",
    "font_name = 'kai'\n",
    "kai = ImageFont.truetype(font_name+'.ttf', size=120)\n",
    "\n",
    "font_name = 'fzjl'\n",
    "fzjl = ImageFont.truetype(font_name+'.ttf', size=120)"
   ]
  },
  {
   "cell_type": "code",
   "execution_count": 7,
   "metadata": {},
   "outputs": [
    {
     "data": {
      "image/png": "[encoded data removed]",
      "text/plain": [
       "<PIL.Image.Image image mode=1 size=128x128 at 0x24A99EBBFD0>"
      ]
     },
     "execution_count": 7,
     "metadata": {},
     "output_type": "execute_result"
    }
   ],
   "source": [
    "img = Image.new(\"1\", (128, 128), (1))\n",
    "draw = ImageDraw.Draw(img)\n",
    "draw.text((2, -20), codes[1], (0), font=kai)\n",
    "img"
   ]
  },
  {
   "cell_type": "code",
   "execution_count": 4,
   "metadata": {},
   "outputs": [
    {
     "name": "stdout",
     "output_type": "stream",
     "text": [
      "1000\n",
      "2000\n",
      "3000\n"
     ]
    },
    {
     "data": {
      "image/png": "[encoded data removed]",
      "text/plain": [
       "<matplotlib.figure.Figure at 0x20381c2cdd8>"
      ]
     },
     "metadata": {},
     "output_type": "display_data"
    }
   ],
   "source": [
    "right = np.ones([len(codes), 128, 128], dtype=np.uint0)\n",
    "\n",
    "for i, ch in enumerate(codes):\n",
    "    try:\n",
    "        img = Image.new(\"1\", (128, 128), (1))\n",
    "        draw = ImageDraw.Draw(img)\n",
    "        draw.text((2, -20), ch, (0), font=kai)\n",
    "        #draw.text((1, 0), ch, (0), font=msyh)\n",
    "        #img.save('../data/{}/{}.jpg'.format(font_name, i))\n",
    "        right[i] = np.array(img)\n",
    "        if (i+1) % 1000 == 0:\n",
    "            print(i+1)\n",
    "    except:\n",
    "        pass\n",
    "    \n",
    "plt.imshow(right[1], cmap='gray')\n",
    "plt.show()"
   ]
  },
  {
   "cell_type": "code",
   "execution_count": 5,
   "metadata": {},
   "outputs": [
    {
     "name": "stdout",
     "output_type": "stream",
     "text": [
      "1000\n",
      "2000\n",
      "3000\n"
     ]
    },
    {
     "data": {
      "image/png": "[encoded data removed]",
      "text/plain": [
       "<matplotlib.figure.Figure at 0x203920162b0>"
      ]
     },
     "metadata": {},
     "output_type": "display_data"
    }
   ],
   "source": [
    "left = np.ones([len(codes), 128, 128], dtype=np.uint0)\n",
    "\n",
    "for i, ch in enumerate(codes):\n",
    "    try:\n",
    "        img = Image.new(\"1\", (128, 128), (1))\n",
    "        draw = ImageDraw.Draw(img)\n",
    "        #draw.text((1, -10), ch, (0), font=fzjl)\n",
    "        draw.text((2, 0), ch, (0), font=fzjl)\n",
    "        #img.save('../data/{}/{}.jpg'.format(font_name, i))\n",
    "        left[i] = np.array(img)\n",
    "        if (i+1) % 1000 == 0:\n",
    "            print(i+1)\n",
    "    except:\n",
    "        pass\n",
    "    \n",
    "plt.imshow(left[1], cmap='gray')\n",
    "plt.show()"
   ]
  },
  {
   "cell_type": "code",
   "execution_count": 6,
   "metadata": {
    "collapsed": true
   },
   "outputs": [],
   "source": [
    "left.tofile('../data/{}_{}.np'.format('fzjl', 128))\n",
    "right.tofile('../data/{}_{}.np'.format('kai', 128))"
   ]
  },
  {
   "cell_type": "code",
   "execution_count": 34,
   "metadata": {
    "collapsed": true
   },
   "outputs": [],
   "source": [
    "# np.random.seed(0)\n",
    "# indices = np.random.permutation(len(left))\n",
    "\n",
    "\n",
    "# #source_font = source_font[indices]\n",
    "# #target_font = target_font[indices]"
   ]
  },
  {
   "cell_type": "code",
   "execution_count": 35,
   "metadata": {},
   "outputs": [
    {
     "data": {
      "text/plain": [
       "3755"
      ]
     },
     "execution_count": 35,
     "metadata": {},
     "output_type": "execute_result"
    }
   ],
   "source": [
    "len(left)"
   ]
  },
  {
   "cell_type": "code",
   "execution_count": 27,
   "metadata": {
    "collapsed": true
   },
   "outputs": [],
   "source": []
  },
  {
   "cell_type": "code",
   "execution_count": null,
   "metadata": {
    "collapsed": true
   },
   "outputs": [],
   "source": []
  }
 ],
 "metadata": {
  "kernelspec": {
   "display_name": "Python 3",
   "language": "python",
   "name": "python3"
  },
  "language_info": {
   "codemirror_mode": {
    "name": "ipython",
    "version": 3
   },
   "file_extension": ".py",
   "mimetype": "text/x-python",
   "name": "python",
   "nbconvert_exporter": "python",
   "pygments_lexer": "ipython3",
   "version": "3.6.3"
  }
 },
 "nbformat": 4,
 "nbformat_minor": 2
}
